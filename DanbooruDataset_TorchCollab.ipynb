{
  "nbformat": 4,
  "nbformat_minor": 0,
  "metadata": {
    "colab": {
      "provenance": [],
      "toc_visible": true,
      "authorship_tag": "ABX9TyNIsfRud/phNHk8V1aKU19f",
      "include_colab_link": true
    },
    "kernelspec": {
      "name": "python3",
      "display_name": "Python 3"
    },
    "language_info": {
      "name": "python"
    }
  },
  "cells": [
    {
      "cell_type": "markdown",
      "metadata": {
        "id": "view-in-github",
        "colab_type": "text"
      },
      "source": [
        "<a href=\"https://colab.research.google.com/github/kurofuku9000/SD_CollabTestV1.0/blob/main/DanbooruDataset_TorchCollab.ipynb\" target=\"_parent\"><img src=\"https://colab.research.google.com/assets/colab-badge.svg\" alt=\"Open In Colab\"/></a>"
      ]
    },
    {
      "cell_type": "markdown",
      "source": [
        "Test\n"
      ],
      "metadata": {
        "id": "ODzjfKLvMUgk"
      }
    },
    {
      "cell_type": "code",
      "execution_count": null,
      "metadata": {
        "colab": {
          "base_uri": "https://localhost:8080/"
        },
        "id": "zzYvLrfQMOfa",
        "outputId": "9a7f155d-8434-4b11-faaa-9c18a5042c00"
      },
      "outputs": [
        {
          "output_type": "stream",
          "name": "stdout",
          "text": [
            "Basic Workings Reminder\n",
            "Shape of tensor: torch.Size([3, 4])\n",
            "tensor([[0.5746, 0.6717, 0.8489, 0.1618],\n",
            "        [0.6634, 0.5509, 0.6663, 0.2940],\n",
            "        [0.6491, 0.1267, 0.1059, 0.8406]])\n",
            "tensor([[0.5746, 0.6634, 0.6491],\n",
            "        [0.6717, 0.5509, 0.1267],\n",
            "        [0.8489, 0.6663, 0.1059],\n",
            "        [0.1618, 0.2940, 0.8406]])\n",
            "tensor([[1.2315, 1.2298, 0.6406, 1.4484, 1.2135],\n",
            "        [1.2607, 1.1349, 0.7186, 1.2581, 1.0482],\n",
            "        [1.2803, 0.9217, 0.9467, 0.6276, 0.4178]])\n",
            "<class 'torch.Tensor'>\n",
            "tensor(15.3784)\n",
            "<class 'float'>\n",
            "15.37840747833252\n"
          ]
        }
      ],
      "source": [
        "# @title Just a Test {\"vertical-output\":true,\"display-mode\":\"form\"}\n",
        "import os\n",
        "import numpy as np\n",
        "import torch\n",
        "\n",
        "print(\"Basic Workings Reminder\")\n",
        "\n",
        "tensor_A = torch.rand(3,4)\n",
        "print(f\"Shape of tensor: {tensor_A.shape}\")\n",
        "print(tensor_A)\n",
        "tensor_B = torch.rand(4,5)\n",
        "\n",
        "\n",
        "if torch.cuda.is_available():\n",
        "  tensor_A.to(\"cuda\")\n",
        "  tensor_B.to(\"cuda\")\n",
        "\n",
        "T1 = tensor_A.T\n",
        "print(T1)\n",
        "\n",
        "T2 = torch.matmul(tensor_A,tensor_B)\n",
        "print(T2)\n",
        "\n",
        "agg = T2.sum()\n",
        "print(type(agg))\n",
        "print(agg)\n",
        "\n",
        "agg_nm = agg.item()\n",
        "print(type(agg_nm))\n",
        "print(agg_nm)"
      ]
    },
    {
      "cell_type": "markdown",
      "source": [
        "# Custom Database Loader\n",
        "[Danbooru Aesthetics](https://huggingface.co/datasets/Majen/danbooru-aesthetic/tree/main)\n",
        "\n"
      ],
      "metadata": {
        "id": "sKJB8uJHlbKa"
      }
    }
  ]
}